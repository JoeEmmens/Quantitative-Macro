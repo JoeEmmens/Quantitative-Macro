{
 "cells": [
  {
   "cell_type": "code",
   "execution_count": 1,
   "outputs": [],
   "source": [
    "import numpy as np\n",
    "import matplotlib.pyplot as plt\n",
    "from matplotlib.pyplot import cm\n",
    "import os\n",
    "from scipy import sparse"
   ],
   "metadata": {
    "collapsed": false,
    "pycharm": {
     "name": "#%%\n"
    }
   }
  },
  {
   "cell_type": "code",
   "execution_count": 2,
   "outputs": [],
   "source": [
    "os.chdir(\"path\")"
   ],
   "metadata": {
    "collapsed": false,
    "pycharm": {
     "name": "#%%\n"
    }
   }
  },
  {
   "cell_type": "code",
   "execution_count": 3,
   "outputs": [],
   "source": [
    "kMin = 10**-2\n",
    "kMax = 4\n",
    "kNum = 100\n",
    "kGrid = np.linspace(kMin, kMax, kNum)\n",
    "theta = 0.67\n",
    "delta = 0.13\n",
    "beta = 0.98\n",
    "\n",
    "hNum = kNum\n",
    "hGrid = np.linspace(0.01, 0.99, hNum)\n",
    "kappa = 5.24\n",
    "nu = 2"
   ],
   "metadata": {
    "collapsed": false,
    "pycharm": {
     "name": "#%%\n"
    }
   }
  },
  {
   "cell_type": "code",
   "execution_count": 4,
   "outputs": [],
   "source": [
    "@np.vectorize\n",
    "def utility(k, kPrime):\n",
    "\n",
    "    return np.log(k**(1-theta) + (1-delta)*k - kPrime)\n",
    "\n",
    "@np.vectorize\n",
    "def cons( k, kPrime):\n",
    "\n",
    "    return k**(1-theta) +(1-delta)*k - kPrime\n",
    "\n",
    "@np.vectorize\n",
    "def utilityLab(k, kPrime, h):\n",
    "\n",
    "    return np.log(k**(1-theta)* h**theta + (1-delta)*k - kPrime) \\\n",
    "           - kappa*(h**(1 + 1/nu)/ 1 + 1/nu)\n",
    "\n",
    "@np.vectorize\n",
    "def consLab(k, kPrime, h):\n",
    "\n",
    "    return k**(1-theta) * h**theta +(1-delta)*k - kPrime\n"
   ],
   "metadata": {
    "collapsed": false,
    "pycharm": {
     "name": "#%%\n"
    }
   }
  },
  {
   "cell_type": "code",
   "execution_count": 5,
   "outputs": [
    {
     "name": "stderr",
     "output_type": "stream",
     "text": [
      "<ipython-input-4-c65ac2701260>:4: RuntimeWarning: invalid value encountered in log\n",
      "  return np.log(k**(1-theta) + (1-delta)*k - kPrime)\n",
      "C:\\ProgramData\\Anaconda3\\lib\\site-packages\\numpy\\lib\\function_base.py:2192: RuntimeWarning: invalid value encountered in ? (vectorized)\n",
      "  outputs = ufunc(*inputs)\n"
     ]
    }
   ],
   "source": [
    "def Util():\n",
    "    \"\"\"\n",
    "    Define M as u (f (ki ) + (1 -\\delta)ki - kj )\n",
    "    Impose the constraints on capital through C\n",
    "    s.t. kj =< f (ki) + (1 - \\delta)ki\n",
    "    \"\"\"\n",
    "\n",
    "    V = np.zeros(kNum)\n",
    "    M = np.zeros((kNum, kNum))\n",
    "\n",
    "    for (idi, k) in enumerate(kGrid):\n",
    "        for (idj, kPRime) in enumerate(kGrid):\n",
    "\n",
    "            M[idi, idj] = utility(k, kPRime)\n",
    "\n",
    "    C = np.zeros((kNum, kNum))\n",
    "\n",
    "    for (idi, k) in enumerate(kGrid):\n",
    "        for (idj, kPRime) in enumerate(kGrid):\n",
    "\n",
    "            C[idi, idj] = cons(k, kPRime)\n",
    "\n",
    "    M[C < 0] = -500\n",
    "\n",
    "    return V, M\n",
    "V, M = Util()"
   ],
   "metadata": {
    "collapsed": false,
    "pycharm": {
     "name": "#%%\n"
    }
   }
  },
  {
   "cell_type": "code",
   "execution_count": 6,
   "outputs": [
    {
     "name": "stdout",
     "output_type": "stream",
     "text": [
      "Wall time: 1.75 s\n"
     ]
    }
   ],
   "source": [
    "%%time\n",
    "\"\"\"\n",
    "Discrete case with exogenous labour supply\n",
    "\"\"\"\n",
    "\n",
    "X = np.zeros(np.shape(M))\n",
    "for i in range(len(V)):\n",
    "        X[:, i] = M[:, i] + beta*V[i]\n",
    "\n",
    "V1 = X.max(axis=1)\n",
    "\n",
    "OptimalPath = [V, V1]\n",
    "PRule = []\n",
    "niter = 0\n",
    "while np.linalg.norm(V1 - V) > 10**-4 and niter < 275:\n",
    "\n",
    "    for i in range(len(V)):\n",
    "        X[:, i] = M[:, i] + beta*V1[i]\n",
    "\n",
    "    V1 = X.max(axis=1)\n",
    "\n",
    "    g = []\n",
    "    for i in V1:\n",
    "        idx = np.where(X == i)[1]\n",
    "        g.append(kGrid[idx])\n",
    "        PRule.append(g)\n",
    "\n",
    "    OptimalPath.append(V1)\n",
    "    V1 = OptimalPath[-1]\n",
    "    V = OptimalPath[-2]\n",
    "\n",
    "    niter = niter+1"
   ],
   "metadata": {
    "collapsed": false,
    "pycharm": {
     "name": "#%%\n"
    }
   }
  },
  {
   "cell_type": "code",
   "execution_count": 7,
   "outputs": [
    {
     "data": {
      "text/plain": "<matplotlib.legend.Legend at 0x261b42831c0>"
     },
     "execution_count": 7,
     "metadata": {},
     "output_type": "execute_result"
    },
    {
     "data": {
      "text/plain": "<Figure size 1008x576 with 1 Axes>",
      "image/png": "[encoded data removed]"
     },
     "metadata": {},
     "output_type": "display_data"
    }
   ],
   "source": [
    "fig, ax = plt.subplots(facecolor=\"w\", figsize=(14, 8))\n",
    "for i in OptimalPath[1:-1]:\n",
    "    ax.plot(kGrid, i, zorder=10, alpha=0.6)\n",
    "ax.plot(kGrid, OptimalPath[-1], label=\"V*\", linewidth=4, c=\"purple\", zorder=50)\n",
    "plt.title(\"Value Function Approximation \\n Discrete Methods\", fontsize=20)\n",
    "plt.ylabel(\"k\")\n",
    "plt.xlim((-0.01, 4))\n",
    "plt.legend()\n",
    "\n",
    "#fig.savefig(\"Title Graph\")"
   ],
   "metadata": {
    "collapsed": false,
    "pycharm": {
     "name": "#%%\n"
    }
   }
  },
  {
   "cell_type": "code",
   "execution_count": 8,
   "outputs": [],
   "source": [
    "def Plot(kGrid, V1, g, title=\"Set\", filename=\"set\"):\n",
    "\n",
    "    fig, (ax1, ax2) = plt.subplots(nrows=1, ncols=2, facecolor=\"w\", figsize=(14,6))\n",
    "    fig.suptitle(title, fontsize=20, c=\"darkblue\")\n",
    "    ax1.plot(kGrid, V1, lw=2, c=\"darkgreen\")\n",
    "    ax1.set_title(\"Value Function\",c=\"darkblue\")\n",
    "    ax1.set_xlim((0, 4))\n",
    "\n",
    "    ax2.plot(kGrid, g, lw=2,c=\"darkgreen\")\n",
    "    ax2.set_title(\"Policy Function\",c=\"darkblue\")\n",
    "    ax2.set_xlim((0, 4))\n",
    "\n",
    "    fig.savefig(filename)\n",
    "\n",
    "#fig = Plot(kGrid, V1, g, title=\"Value Function Approximation \\n Brute Force\",\n",
    "           #filename=\"Brute Force\")"
   ],
   "metadata": {
    "collapsed": false,
    "pycharm": {
     "name": "#%%\n"
    }
   }
  },
  {
   "cell_type": "code",
   "execution_count": 9,
   "outputs": [
    {
     "data": {
      "text/plain": "'\\nspeed improvements!\\n'"
     },
     "execution_count": 9,
     "metadata": {},
     "output_type": "execute_result"
    }
   ],
   "source": [
    "\"\"\"\n",
    "speed improvements!\n",
    "\"\"\""
   ],
   "metadata": {
    "collapsed": false,
    "pycharm": {
     "name": "#%%\n"
    }
   }
  },
  {
   "cell_type": "code",
   "execution_count": 10,
   "outputs": [
    {
     "name": "stdout",
     "output_type": "stream",
     "text": [
      "Wall time: 3.9 s\n"
     ]
    }
   ],
   "source": [
    "%%time\n",
    "\"\"\"\n",
    "Concavity!\n",
    "\"\"\"\n",
    "\n",
    "\"\"\"\n",
    "Discrete case with exogenous labour supply\n",
    "\"\"\"\n",
    "\n",
    "V1 = np.zeros(kNum)\n",
    "\n",
    "X = np.ones(np.shape(M))*-500\n",
    "for i in range(len(X)):\n",
    "    for j in range(len(X)):\n",
    "        if j == 0:\n",
    "            X[i, j] = M[i, j] + beta* V[j]\n",
    "        else:\n",
    "            X[i, j] = M[i, j] + V[j]\n",
    "            if X[i, j-1] > X[i, j]:\n",
    "                V1[i] = X[i, j-1]\n",
    "                break\n",
    "\n",
    "OptimalPath = [V, V1]\n",
    "PRule = []\n",
    "niter = 0\n",
    "while np.linalg.norm(V1 - V) > 10**-4 and niter < 275:\n",
    "\n",
    "    Vs = np.zeros(kNum)\n",
    "    X = np.ones(np.shape(M))*-500\n",
    "    for i in range(len(X)):\n",
    "        for j in range(len(X)):\n",
    "            if j == 0:\n",
    "                X[i, j] = M[i, j] + beta * V1[j]\n",
    "            else:\n",
    "                X[i, j] = M[i, j] + V1[j]\n",
    "                if X[i, j-1] > X[i, j]:\n",
    "                    Vs[i] = X[i, j-1]\n",
    "                    break\n",
    "\n",
    "    g = []\n",
    "    for i in Vs[:-1]:\n",
    "        idx = np.where(X == i)[1]\n",
    "        g.append(kGrid[idx])\n",
    "        PRule.append(g)\n",
    "\n",
    "    OptimalPath.append(Vs)\n",
    "    V1 = OptimalPath[-1]\n",
    "    V = OptimalPath[-2]\n",
    "    niter = niter+1"
   ],
   "metadata": {
    "collapsed": false,
    "pycharm": {
     "name": "#%%\n"
    }
   }
  },
  {
   "cell_type": "code",
   "execution_count": 11,
   "outputs": [],
   "source": [
    "#Plot(kGrid[:-1], V1[:-1], g, title=\"Value Function Approximation \\n Speeding Concavity\",\n",
    "     #filename=\"Concavity\")\n",
    "\n"
   ],
   "metadata": {
    "collapsed": false,
    "pycharm": {
     "name": "#%%\n"
    }
   }
  },
  {
   "cell_type": "code",
   "execution_count": 12,
   "outputs": [
    {
     "name": "stdout",
     "output_type": "stream",
     "text": [
      "Wall time: 4.07 s\n"
     ]
    }
   ],
   "source": [
    "%%time\n",
    "\"\"\"\n",
    "Monotonicity of the policy function\n",
    "\"\"\"\n",
    "\n",
    "\"\"\"\n",
    "Discrete case with exogenous labour supply\n",
    "\"\"\"\n",
    "\n",
    "V1 = np.zeros(kNum)\n",
    "\n",
    "X = np.zeros(np.shape(M))\n",
    "for i in range(len(X)):\n",
    "    for j in range(len(X)):\n",
    "            X[i, j] = M[i, j] + beta * beta * V[j]\n",
    "\n",
    "\n",
    "V1 = X.max(axis=1)\n",
    "\n",
    "PRule = []\n",
    "g = np.zeros(kNum)\n",
    "for idv,i in enumerate(V1):\n",
    "    idx = np.where(X == i)[1]\n",
    "    g[idv] = kGrid[idx]\n",
    "    PRule.append(g)\n",
    "\n",
    "kLB = np.zeros(kNum)\n",
    "kLB[0] = g[0]\n",
    "\n",
    "\n",
    "OptimalPath = [V, V1]\n",
    "niter = 0\n",
    "\n",
    "while np.linalg.norm(V1 - V) > 10**-4 and niter < 275:\n",
    "    \n",
    "    for i in range(1, kNum):\n",
    "        kLB[i] = g[i-1]\n",
    "\n",
    "    X = np.ones(np.shape(M))*-500\n",
    "    for i in range(len(X)):\n",
    "        for j in range(len(X)):\n",
    "            if kGrid[j] >= kLB[i]:\n",
    "                X[i, j] = M[i, j] + beta * V1[j]\n",
    "    \n",
    "    V1 = X.max(axis=1)\n",
    "\n",
    "    g = np.zeros(kNum)\n",
    "    for idv, i in enumerate(V1):\n",
    "        idx = np.where(X == i)[1]\n",
    "        g[idv] = kGrid[idx]\n",
    "        PRule.append(g)\n",
    "\n",
    "    OptimalPath.append(V1)\n",
    "    V1 = OptimalPath[-1]\n",
    "    V = OptimalPath[-2]\n",
    "    niter = niter+1"
   ],
   "metadata": {
    "collapsed": false,
    "pycharm": {
     "name": "#%%\n"
    }
   }
  },
  {
   "cell_type": "code",
   "execution_count": 13,
   "outputs": [],
   "source": [
    "#Plot(kGrid, V1, g, title=\"Value Function Approximation \\n Speeding Monotonicity\",\n",
    "     #filename=\"Monotonicity\")\n"
   ],
   "metadata": {
    "collapsed": false,
    "pycharm": {
     "name": "#%%\n"
    }
   }
  },
  {
   "cell_type": "code",
   "execution_count": 14,
   "outputs": [
    {
     "name": "stderr",
     "output_type": "stream",
     "text": [
      "<ipython-input-4-c65ac2701260>:4: RuntimeWarning: invalid value encountered in log\n",
      "  return np.log(k**(1-theta) + (1-delta)*k - kPrime)\n",
      "C:\\ProgramData\\Anaconda3\\lib\\site-packages\\numpy\\lib\\function_base.py:2192: RuntimeWarning: invalid value encountered in ? (vectorized)\n",
      "  outputs = ufunc(*inputs)\n"
     ]
    },
    {
     "name": "stdout",
     "output_type": "stream",
     "text": [
      "Wall time: 2.7 s\n"
     ]
    }
   ],
   "source": [
    "%%time\n",
    "\"\"\"\n",
    "Monotonicity and concavity\n",
    "\"\"\"\n",
    "\n",
    "V = np.zeros(kNum)\n",
    "M = np.zeros((kNum, kNum))\n",
    "\n",
    "for (idi, k) in enumerate(kGrid):\n",
    "    for (idj, kPRime) in enumerate(kGrid):\n",
    "\n",
    "        M[idi, idj] = utility(k, kPRime)\n",
    "\n",
    "C = np.zeros((kNum, kNum))\n",
    "\n",
    "for (idi, k) in enumerate(kGrid):\n",
    "    for (idj, kPRime) in enumerate(kGrid):\n",
    "\n",
    "        C[idi, idj] = cons(k, kPRime)\n",
    "\n",
    "M[C < 0] = -500\n",
    "\n",
    "V1 = np.zeros(kNum)\n",
    "\n",
    "X = np.zeros(np.shape(M))*-500\n",
    "for i in range(len(X)):\n",
    "    for j in range(len(X)):\n",
    "        if j == 0:\n",
    "            X[i, j] = M[i, j] + beta * V[j]\n",
    "        else:\n",
    "            X[i, j] = M[i, j] + beta * V[j]\n",
    "            if X[i, j-1] > X[i, j]:\n",
    "                V1[i] = X[i, j-1]\n",
    "                break\n",
    "\n",
    "PRule = []\n",
    "g = np.zeros(kNum)\n",
    "for idv,i in enumerate(V1):\n",
    "    idx = np.where(X == i)[1]\n",
    "    g[idv] = kGrid[idx]\n",
    "    PRule.append(g)\n",
    "\n",
    "kLB = np.zeros(kNum)\n",
    "kLB[0] = g[0]\n",
    "\n",
    "OptimalPath = [V, V1]\n",
    "PRule = []\n",
    "niter = 0\n",
    "while np.linalg.norm(V1 - V) > 10**-4 and niter < 275:\n",
    "\n",
    "\n",
    "    for i in range(1, kNum):\n",
    "        kLB[i] = g[i-1]\n",
    "\n",
    "\n",
    "    Vs = np.zeros(kNum)\n",
    "    X = np.ones(np.shape(M))*-500\n",
    "    for i in range(len(X)):\n",
    "        for j in range(len(X)):\n",
    "            if j == 0:\n",
    "                    X[i, j] = M[i, j] + beta * V1[j]\n",
    "            else:\n",
    "                if kGrid[j] >= kLB[j]:\n",
    "                    X[i, j] = M[i, j] + beta * V1[j]\n",
    "                if X[i, j-1] > X[i, j]:\n",
    "                    Vs[i] = X[i, j-1]\n",
    "                    break\n",
    "\n",
    "    g = []\n",
    "    for i in Vs:\n",
    "        idx = np.where(X == i)[1]\n",
    "        g.append(kGrid[idx])\n",
    "        PRule.append(g)\n",
    "\n",
    "    OptimalPath.append(Vs)\n",
    "    V1 = OptimalPath[-1]\n",
    "    V = OptimalPath[-2]\n",
    "    niter = niter+1"
   ],
   "metadata": {
    "collapsed": false,
    "pycharm": {
     "name": "#%%\n"
    }
   }
  },
  {
   "cell_type": "code",
   "execution_count": 15,
   "outputs": [],
   "source": [
    "#Plot(kGrid, V1, g, title=\"Speeding with Monotonicity & Concavity\",\n",
    "     #filename=\"Mono and Conv\")"
   ],
   "metadata": {
    "collapsed": false,
    "pycharm": {
     "name": "#%%\n"
    }
   }
  },
  {
   "cell_type": "code",
   "execution_count": 16,
   "outputs": [
    {
     "name": "stdout",
     "output_type": "stream",
     "text": [
      "Wall time: 1.75 s\n"
     ]
    }
   ],
   "source": [
    "%%time\n",
    "\n",
    "\"\"\"\n",
    "Local Search !!!\n",
    "\n",
    "Discrete case with exogenous labour supply\n",
    "\"\"\"\n",
    "\n",
    "\n",
    "X = np.zeros(np.shape(M))\n",
    "for i in range(len(V)):\n",
    "        X[:, i] = M[:, i] + beta*V[i]\n",
    "\n",
    "V1 = X.max(axis=1)\n",
    "g = []\n",
    "PRule = []\n",
    "for i in V1:\n",
    "    idx = np.where(X == i)[1]\n",
    "    g.append(kGrid[idx])\n",
    "    PRule.append(g)\n",
    "\n",
    "\n",
    "OptimalPath = [V, V1]\n",
    "\n",
    "niter = 0\n",
    "while np.linalg.norm(V1 - V) > 10**-4 and niter < 275:\n",
    "\n",
    "    X = -500*(np.ones(np.shape(M)))\n",
    "    for i in range(kNum):\n",
    "        if i == 0:\n",
    "            for j in range (i, i+8):\n",
    "                X[j, i] = M[j, i] + beta*V1[i]\n",
    "        if i == 1:\n",
    "            for j in range (i-1, i+7):\n",
    "                X[j, i] = M[j, i] + beta*V1[i]\n",
    "        if i == 2:\n",
    "            for j in range (i-2, i+6):\n",
    "                X[j, i] = M[j, i] + beta*V1[i]\n",
    "        if i == 3:\n",
    "            for j in range (i-3, i+5):\n",
    "                X[j, i] = M[j, i] + beta*V1[i]\n",
    "        if i in range (4, 96):\n",
    "            for j in range (i-4, i+4):\n",
    "                X[j, i] = M[j, i] + beta*V1[i]\n",
    "        if i == 97:\n",
    "            for j in range (i-5, i+3):\n",
    "                X[j, i] = M[j, i] + beta*V1[i]\n",
    "        if i == 98:\n",
    "            for j in range (i-6, i+2):\n",
    "                X[j, i] = M[j, i] + beta*V1[i]\n",
    "        if i == 99:\n",
    "            for j in range (i-7, i+1):\n",
    "                X[j, i] = M[j, i] + beta*V1[i]\n",
    "        if i == 100:\n",
    "            for j in range (i-8, i):\n",
    "                X[j, i] = M[j, i] + beta*V1[i]\n",
    "\n",
    "    V1 = X.max(axis=1)\n",
    "\n",
    "    g = []\n",
    "    for i in V1:\n",
    "        idx = np.where(X == i)[1]\n",
    "        g.append(kGrid[idx])\n",
    "        PRule.append(g)\n",
    "\n",
    "    OptimalPath.append(V1)\n",
    "    V1 = OptimalPath[-1]\n",
    "    V = OptimalPath[-2]\n",
    "\n",
    "    niter = niter+1"
   ],
   "metadata": {
    "collapsed": false,
    "pycharm": {
     "name": "#%%\n"
    }
   }
  },
  {
   "cell_type": "code",
   "execution_count": 17,
   "outputs": [],
   "source": [
    "#Plot(kGrid, V1, g, title=\"Value Function Approximation \\n Speeding with Local Search\", filename=\"Line Search\")"
   ],
   "metadata": {
    "collapsed": false,
    "pycharm": {
     "name": "#%%\n"
    }
   }
  },
  {
   "cell_type": "code",
   "execution_count": 17,
   "outputs": [],
   "source": [],
   "metadata": {
    "collapsed": false,
    "pycharm": {
     "name": "#%%\n"
    }
   }
  }
 ],
 "metadata": {
  "kernelspec": {
   "display_name": "Python 3",
   "language": "python",
   "name": "python3"
  },
  "language_info": {
   "codemirror_mode": {
    "name": "ipython",
    "version": 2
   },
   "file_extension": ".py",
   "mimetype": "text/x-python",
   "name": "python",
   "nbconvert_exporter": "python",
   "pygments_lexer": "ipython2",
   "version": "2.7.6"
  }
 },
 "nbformat": 4,
 "nbformat_minor": 0
}